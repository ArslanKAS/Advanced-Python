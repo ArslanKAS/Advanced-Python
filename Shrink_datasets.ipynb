{
 "cells": [
  {
   "attachments": {},
   "cell_type": "markdown",
   "metadata": {},
   "source": [
    "# **Advanced Python:** Reduce Size of Datasets\n",
    "**Name:** Arsalan Ali<br>\n",
    "**Email:** arslanchaos@gmail.com\n",
    "\n",
    "A lot of times when we're working with big datasets it takes away a lot of memory<br>\n",
    "We can shrink the dataset size by various ways\n",
    "\n",
    "### **Table of Contents**\n",
    "* df_shrink\n",
    "* dtype_diet\n",
    "* parquet"
   ]
  },
  {
   "attachments": {},
   "cell_type": "markdown",
   "metadata": {},
   "source": [
    "### 1. dtype_diet\n",
    "It converts the columns into smaller datatypes so they won't take much memory"
   ]
  },
  {
   "cell_type": "code",
   "execution_count": 6,
   "metadata": {},
   "outputs": [
    {
     "name": "stdout",
     "output_type": "stream",
     "text": [
      "Before: 2272.44 MB\n",
      "After: 695.16 MB\n"
     ]
    }
   ],
   "source": [
    "import pandas as pd\n",
    "from dtype_diet import report_on_dataframe, optimize_dtypes\n",
    "\n",
    "df = pd.read_csv(\"prices.csv\")\n",
    "settings = report_on_dataframe(df, unit=\"MB\")\n",
    "new_df = optimize_dtypes(df, settings)\n",
    "\n",
    "\n",
    "print(f'Before: {df.memory_usage(deep=True).sum()/1024**2:.2f} MB')\n",
    "print(f'After: {new_df.memory_usage(deep=True).sum()/1024**2:.2f} MB')\n"
   ]
  },
  {
   "attachments": {},
   "cell_type": "markdown",
   "metadata": {},
   "source": [
    "### 2. Parquet Format\n",
    "It compresses the dataset thus reducing its size on storage but in memory it stays the same"
   ]
  },
  {
   "cell_type": "code",
   "execution_count": null,
   "metadata": {},
   "outputs": [],
   "source": [
    "# Just a Decorator to Calculate Time and Memory\n",
    "\n",
    "import time\n",
    "import psutil\n",
    "\n",
    "def time_and_memory_profiler(func):\n",
    "  def wrapper(*args, **kwargs):\n",
    "    start_time = time.perf_counter()\n",
    "    memory_before = psutil.Process().memory_info().rss\n",
    "    \n",
    "    result = func(*args, **kwargs)\n",
    "    \n",
    "    print(f\"Time taken: {time.perf_counter() - start_time:.6f} Seconds\")\n",
    "    print(f\"Memory usage: {(psutil.Process().memory_info().rss - memory_before)/1048576} Megabytes\")\n",
    "    \n",
    "    return result\n",
    "  \n",
    "  return wrapper"
   ]
  },
  {
   "cell_type": "code",
   "execution_count": null,
   "metadata": {},
   "outputs": [],
   "source": [
    "# Parquet\n",
    "\n",
    "def load_parquet(file):\n",
    "    df = pd.read_parquet(file)\n",
    "    return df\n",
    "    \n",
    "load_parquet(\"prices.parquet\")"
   ]
  }
 ],
 "metadata": {
  "kernelspec": {
   "display_name": "latest_python",
   "language": "python",
   "name": "python3"
  },
  "language_info": {
   "codemirror_mode": {
    "name": "ipython",
    "version": 3
   },
   "file_extension": ".py",
   "mimetype": "text/x-python",
   "name": "python",
   "nbconvert_exporter": "python",
   "pygments_lexer": "ipython3",
   "version": "3.11.0"
  },
  "orig_nbformat": 4,
  "vscode": {
   "interpreter": {
    "hash": "0e89fa9d34bf160a830340249d57759ad2bc513e7c7d8dbe75f5cb00cde144ca"
   }
  }
 },
 "nbformat": 4,
 "nbformat_minor": 2
}
