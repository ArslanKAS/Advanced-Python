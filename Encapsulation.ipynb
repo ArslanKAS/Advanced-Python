{
 "cells": [
  {
   "attachments": {},
   "cell_type": "markdown",
   "metadata": {},
   "source": [
    "# **Advanced Python:** Encapsulation\n",
    "**Name:** Arsalan Ali<br>\n",
    "**Email:** arslanchaos@gmail.com\n",
    "\n",
    "Encapsulation in Python describes the concept of bundling data and methods within a single unit. So, for example, when you create a class,<br>\n",
    "it means you are implementing encapsulation. A class is an example of encapsulation as it binds all the data members (instance variables) and methods into a single unit.\n",
    "\n",
    "### **Table of Contents**\n",
    "* Class (Encapsulation itself)\n",
    "* GET and SET methods to turn variables private\n",
    "* STATIC method declares a staticmethod. It can't access class nor ojbect attributes. Can only call staticmethods.\n",
    "* CLASS method declares a class method. It can only access class attributes but not of any object"
   ]
  },
  {
   "cell_type": "code",
   "execution_count": 47,
   "metadata": {},
   "outputs": [
    {
     "name": "stdout",
     "output_type": "stream",
     "text": [
      "Arsalan\n",
      "Ali\n",
      "Testing Static Method\n",
      "Female\n",
      "Male\n"
     ]
    }
   ],
   "source": [
    "class Person:\n",
    "\n",
    "    def __init__(self, name, age, gender):\n",
    "        self.__name = name # Python has no private member variables. By convention double underscore are used to show they're private\n",
    "        self.__age = age\n",
    "        self.gender = gender\n",
    "\n",
    "    @property # This is a Property decorator to turn the method into a GET method\n",
    "    def name(self): # This is a GETTER method to get Property value\n",
    "        return self.__name\n",
    "\n",
    "    @name.setter # This decorator enables us to SET the value for the Property\n",
    "    def name(self, value): # This is a SETTER method to set Property value\n",
    "        self.__name = value\n",
    "\n",
    "    @staticmethod # This decorator turns the method into a STATIC method\n",
    "    def my_function(): # It doesn't need 'self' because static methods are linked to class and not objects. We can call it directly\n",
    "        print(\"Testing Static Method\")\n",
    "\n",
    "    @classmethod # It allows to use any method directly using Class name. We can also call it using an Object too\n",
    "    def user_gender(self, gender):\n",
    "        self.gender = gender\n",
    "        return self.gender\n",
    "\n",
    "p1 = Person(\"Arsalan\", 8, \"M\")\n",
    "\n",
    "# p1.__name # It won't work\n",
    "\n",
    "print(p1.name) # Printing the name through GETTER\n",
    "\n",
    "p1.name = \"Ali\" # Changing name through SETTER\n",
    "print(p1.name)\n",
    "\n",
    "Person.my_function() # Calling STATIC method without object\n",
    "\n",
    "\n",
    "print(Person.user_gender(\"Female\")) # Calling method with Class name using Classmethod\n",
    "print(p1.user_gender(\"Male\")) # Calling method with Class name using Classmethod"
   ]
  },
  {
   "cell_type": "code",
   "execution_count": 60,
   "metadata": {},
   "outputs": [
    {
     "ename": "TypeError",
     "evalue": "MyClass() takes no arguments",
     "output_type": "error",
     "traceback": [
      "\u001b[1;31m---------------------------------------------------------------------------\u001b[0m",
      "\u001b[1;31mTypeError\u001b[0m                                 Traceback (most recent call last)",
      "Cell \u001b[1;32mIn[60], line 9\u001b[0m\n\u001b[0;32m      6\u001b[0m         \u001b[39mself\u001b[39m\u001b[39m.\u001b[39mname \u001b[39m=\u001b[39m name\n\u001b[0;32m      7\u001b[0m         \u001b[39mself\u001b[39m\u001b[39m.\u001b[39mage \u001b[39m=\u001b[39m age\n\u001b[1;32m----> 9\u001b[0m player1 \u001b[39m=\u001b[39m MyClass(\u001b[39m\"\u001b[39;49m\u001b[39mAli\u001b[39;49m\u001b[39m\"\u001b[39;49m, \u001b[39m50\u001b[39;49m)\n",
      "\u001b[1;31mTypeError\u001b[0m: MyClass() takes no arguments"
     ]
    }
   ],
   "source": [
    "# When used on a Class then we can't access Object attributes\n",
    "# @classmethod\n",
    "class MyClass:\n",
    "\n",
    "    def __int__(self, name, age):\n",
    "        self.name = name\n",
    "        self.age = age\n",
    "\n",
    "player1 = MyClass(\"Ali\", 50)"
   ]
  },
  {
   "cell_type": "code",
   "execution_count": 50,
   "metadata": {},
   "outputs": [
    {
     "ename": "TypeError",
     "evalue": "'staticmethod' object is not callable",
     "output_type": "error",
     "traceback": [
      "\u001b[1;31m---------------------------------------------------------------------------\u001b[0m",
      "\u001b[1;31mTypeError\u001b[0m                                 Traceback (most recent call last)",
      "Cell \u001b[1;32mIn[50], line 9\u001b[0m\n\u001b[0;32m      6\u001b[0m         \u001b[39mself\u001b[39m\u001b[39m.\u001b[39mname \u001b[39m=\u001b[39m name\n\u001b[0;32m      7\u001b[0m         \u001b[39mself\u001b[39m\u001b[39m.\u001b[39mage \u001b[39m=\u001b[39m age\n\u001b[1;32m----> 9\u001b[0m player1 \u001b[39m=\u001b[39m MyClass(\u001b[39m\"\u001b[39;49m\u001b[39mAli\u001b[39;49m\u001b[39m\"\u001b[39;49m, \u001b[39m50\u001b[39;49m)\n",
      "\u001b[1;31mTypeError\u001b[0m: 'staticmethod' object is not callable"
     ]
    }
   ],
   "source": [
    "# When used on a Class then we can't access Object attributes\n",
    "@staticmethod\n",
    "class MyClass:\n",
    "\n",
    "    def __int__(self, name, age):\n",
    "        self.name = name\n",
    "        self.age = age\n",
    "\n",
    "player1 = MyClass(\"Ali\", 50)"
   ]
  }
 ],
 "metadata": {
  "kernelspec": {
   "display_name": "base",
   "language": "python",
   "name": "python3"
  },
  "language_info": {
   "codemirror_mode": {
    "name": "ipython",
    "version": 3
   },
   "file_extension": ".py",
   "mimetype": "text/x-python",
   "name": "python",
   "nbconvert_exporter": "python",
   "pygments_lexer": "ipython3",
   "version": "3.9.15"
  },
  "orig_nbformat": 4,
  "vscode": {
   "interpreter": {
    "hash": "d164221d6c0d4933ec47cd7b103ec0dce806182fd36f781fe7c7605ff9ff8343"
   }
  }
 },
 "nbformat": 4,
 "nbformat_minor": 2
}
