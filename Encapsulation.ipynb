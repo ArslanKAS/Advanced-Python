{
 "cells": [
  {
   "attachments": {},
   "cell_type": "markdown",
   "metadata": {},
   "source": [
    "# **Advanced Python:** Encapsulation\n",
    "**Name:** Arsalan Ali<br>\n",
    "**Email:** arslanchaos@gmail.com\n",
    "\n",
    "Encapsulation in Python describes the concept of bundling data and methods within a single unit. So, for example, when you create a class,<br>\n",
    "it means you are implementing encapsulation. A class is an example of encapsulation as it binds all the data members (instance variables) and methods into a single unit."
   ]
  },
  {
   "cell_type": "code",
   "execution_count": 27,
   "metadata": {},
   "outputs": [
    {
     "name": "stdout",
     "output_type": "stream",
     "text": [
      "Arsalan\n",
      "Ali\n",
      "Testing Static Method\n"
     ]
    }
   ],
   "source": [
    "class Person:\n",
    "\n",
    "    def __init__(self, name, age, gender):\n",
    "        self.__name = name # The annotation makes these variables private. Can't be accessed directly by an object\n",
    "        self.__age = age\n",
    "        self.gender = gender\n",
    "\n",
    "    @property # This is a Property decorator to turn the function into a GET function\n",
    "    def Name(self): # This is a GETTER function to get Property value\n",
    "        return self.__name\n",
    "\n",
    "    @Name.setter # This decorator enables us to SET the value for the Property\n",
    "    def Name(self, value): # This is a SETTER function to set Property value\n",
    "        self.__name = value\n",
    "\n",
    "    @staticmethod # This decorator turns the function into a STATIC method\n",
    "    def my_function(): # It doesn't need 'self' because static methods are linked to class and not objects. We can call it directly\n",
    "        print(\"Testing Static Method\")\n",
    "\n",
    "p1 = Person(\"Arsalan\", 8, \"M\")\n",
    "\n",
    "# p1.__name # It won't work\n",
    "\n",
    "print(p1.Name) # Printing the name through GETTER\n",
    "\n",
    "p1.Name = \"Ali\" # Changing name through SETTER\n",
    "print(p1.Name)\n",
    "\n",
    "Person.my_function() # Calling STATIC method without object"
   ]
  },
  {
   "cell_type": "code",
   "execution_count": null,
   "metadata": {},
   "outputs": [],
   "source": []
  }
 ],
 "metadata": {
  "kernelspec": {
   "display_name": "base",
   "language": "python",
   "name": "python3"
  },
  "language_info": {
   "codemirror_mode": {
    "name": "ipython",
    "version": 3
   },
   "file_extension": ".py",
   "mimetype": "text/x-python",
   "name": "python",
   "nbconvert_exporter": "python",
   "pygments_lexer": "ipython3",
   "version": "3.9.15"
  },
  "orig_nbformat": 4,
  "vscode": {
   "interpreter": {
    "hash": "d164221d6c0d4933ec47cd7b103ec0dce806182fd36f781fe7c7605ff9ff8343"
   }
  }
 },
 "nbformat": 4,
 "nbformat_minor": 2
}
