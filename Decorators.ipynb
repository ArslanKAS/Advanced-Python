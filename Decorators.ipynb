{
 "cells": [
  {
   "attachments": {},
   "cell_type": "markdown",
   "metadata": {},
   "source": [
    "# **Advanced Python:** Decorators\n",
    "**Name:** Arsalan Ali<br>\n",
    "**Email:** arslanchaos@gmail.com\n",
    "\n",
    "A decorator is a design pattern in Python that allows a user to add new functionality to an existing function or class without modifying its structure.<br>Decorators are usually called before the definition of a function or class you want to decorate."
   ]
  },
  {
   "cell_type": "code",
   "execution_count": 4,
   "metadata": {},
   "outputs": [
    {
     "name": "stdout",
     "output_type": "stream",
     "text": [
      "I'm a function created by Arsalan Ali\n",
      "I'm decorating the function\n"
     ]
    }
   ],
   "source": [
    "def my_decorator(user_function):\n",
    "\n",
    "    def wrapper(*args, **kwargs): # In order to decorate any function, we need to consider its parameters too. Thus *args, **kwargs used\n",
    "        value = user_function(*args, **kwargs) # Function that the user has will be called first\n",
    "        print(\"I'm decorating the function\") # Decorator's code to be executed\n",
    "        return value # Result of function returned to Wrapper\n",
    "        \n",
    "    return wrapper # Result of Wrapper returned to Decorator\n",
    "\n",
    "@my_decorator # Quick way to call a decorator over a function\n",
    "def my_function(name):\n",
    "    print(f\"I'm a function created by {name}\")\n",
    "\n",
    "\n",
    "my_function(\"Arsalan Ali\")"
   ]
  },
  {
   "attachments": {},
   "cell_type": "markdown",
   "metadata": {},
   "source": [
    "### Logfile Example"
   ]
  },
  {
   "cell_type": "code",
   "execution_count": 13,
   "metadata": {},
   "outputs": [
    {
     "name": "stdout",
     "output_type": "stream",
     "text": [
      "add_function: returned the value 50\n"
     ]
    },
    {
     "data": {
      "text/plain": [
       "50"
      ]
     },
     "execution_count": 13,
     "metadata": {},
     "output_type": "execute_result"
    }
   ],
   "source": [
    "def logging(user_function):\n",
    "\n",
    "    def wrapper(*args, **kwargs):\n",
    "        with open(\"logfile.txt\", \"a+\") as f:\n",
    "            f_name = user_function.__name__\n",
    "            value = user_function(*args, **kwargs)\n",
    "            print(f\"{f_name}: returned the value {value}\")\n",
    "            f.write(f\"{f_name}: returned the value {value}\\n\")\n",
    "        return value\n",
    "    return wrapper\n",
    "\n",
    "@logging\n",
    "def add_function(x,y):\n",
    "    return x+y\n",
    "\n",
    "add_function(20,30)"
   ]
  },
  {
   "attachments": {},
   "cell_type": "markdown",
   "metadata": {},
   "source": [
    "### Timing Example"
   ]
  },
  {
   "cell_type": "code",
   "execution_count": 26,
   "metadata": {},
   "outputs": [
    {
     "name": "stdout",
     "output_type": "stream",
     "text": [
      "looping took 4.258656740188599 seconds to execute\n"
     ]
    },
    {
     "data": {
      "text/plain": [
       "1249999975000000"
      ]
     },
     "execution_count": 26,
     "metadata": {},
     "output_type": "execute_result"
    }
   ],
   "source": [
    "import time\n",
    "\n",
    "def timer(user_function):\n",
    "    def wrapper(*args, **kwargs):\n",
    "        f_name = user_function.__name__\n",
    "        before = time.time()\n",
    "        value = user_function(*args, **kwargs)\n",
    "        after = time.time()\n",
    "        print(f\"{f_name} took {after-before} seconds to execute\")\n",
    "        return value\n",
    "    return wrapper\n",
    "\n",
    "@timer\n",
    "def looping(x):\n",
    "    sum = 0\n",
    "    for i in range(x):\n",
    "        sum += i\n",
    "    return sum\n",
    "\n",
    "looping(50000000)\n"
   ]
  },
  {
   "attachments": {},
   "cell_type": "markdown",
   "metadata": {},
   "source": []
  }
 ],
 "metadata": {
  "kernelspec": {
   "display_name": "latest_python",
   "language": "python",
   "name": "python3"
  },
  "language_info": {
   "codemirror_mode": {
    "name": "ipython",
    "version": 3
   },
   "file_extension": ".py",
   "mimetype": "text/x-python",
   "name": "python",
   "nbconvert_exporter": "python",
   "pygments_lexer": "ipython3",
   "version": "3.11.0 | packaged by conda-forge | (main, Oct 25 2022, 06:12:32) [MSC v.1929 64 bit (AMD64)]"
  },
  "orig_nbformat": 4,
  "vscode": {
   "interpreter": {
    "hash": "0e89fa9d34bf160a830340249d57759ad2bc513e7c7d8dbe75f5cb00cde144ca"
   }
  }
 },
 "nbformat": 4,
 "nbformat_minor": 2
}
