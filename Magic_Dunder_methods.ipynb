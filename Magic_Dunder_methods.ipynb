{
 "cells": [
  {
   "attachments": {},
   "cell_type": "markdown",
   "metadata": {},
   "source": [
    "# **Advanced Python:** Magic/Dunder Methods\n",
    "**Name:** Arsalan Ali<br>\n",
    "**Email:** arslanchaos@gmail.com\n",
    "\n",
    "The methods that are accessed with double underscores __ are called Dunder methods or Magic methods.<br>\n",
    "These are builtin Python methods and we can create custom ones too."
   ]
  },
  {
   "cell_type": "code",
   "execution_count": 53,
   "metadata": {},
   "outputs": [
    {
     "name": "stdout",
     "output_type": "stream",
     "text": [
      "30 60\n",
      "X: 30 and Y: 60\n",
      "67\n",
      "Hi I'm a Vector\n"
     ]
    }
   ],
   "source": [
    "from math import hypot\n",
    "\n",
    "class Vector:\n",
    "\n",
    "    # Constructor\n",
    "    def __init__(self, x, y):\n",
    "        self.x = x\n",
    "        self.y = y\n",
    "    \n",
    "    # Addition\n",
    "    def __add__(self, other):\n",
    "        return Vector(self.x + other.x, self.y + other.y)\n",
    "\n",
    "    # Representation\n",
    "    def __repr__(self):\n",
    "        return f\"X: {self.x} and Y: {self.y}\"\n",
    "\n",
    "    # Magnitude\n",
    "    def __len__(self):\n",
    "        return round(hypot(self.x, self.y))\n",
    "\n",
    "    # Call\n",
    "    def __call__(self):\n",
    "        print(\"Hi I'm a Vector\")\n",
    "\n",
    "\n",
    "v1 = Vector(10,50) # Creating Vector 1\n",
    "v2 = Vector(20,10) # Creating Vector 2\n",
    "v3 = v1 + v2 # Using add Magic method here to add Vector\n",
    "\n",
    "print(v3.x, v3.y) # Showing attribute values\n",
    "print(v3) # Using Representation Magic method here\n",
    "print(len(v3)) # Using Length Magic method here\n",
    "v3() # Using Call Magic method here"
   ]
  }
 ],
 "metadata": {
  "kernelspec": {
   "display_name": "base",
   "language": "python",
   "name": "python3"
  },
  "language_info": {
   "codemirror_mode": {
    "name": "ipython",
    "version": 3
   },
   "file_extension": ".py",
   "mimetype": "text/x-python",
   "name": "python",
   "nbconvert_exporter": "python",
   "pygments_lexer": "ipython3",
   "version": "3.9.12 (main, Apr  4 2022, 05:22:27) [MSC v.1916 64 bit (AMD64)]"
  },
  "orig_nbformat": 4,
  "vscode": {
   "interpreter": {
    "hash": "d164221d6c0d4933ec47cd7b103ec0dce806182fd36f781fe7c7605ff9ff8343"
   }
  }
 },
 "nbformat": 4,
 "nbformat_minor": 2
}
