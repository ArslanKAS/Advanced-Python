{
 "cells": [
  {
   "attachments": {},
   "cell_type": "markdown",
   "metadata": {},
   "source": [
    "# **Advanced Python:** Generators\n",
    "**Name:** Arsalan Ali<br>\n",
    "**Email:** arslanchaos@gmail.com\n",
    "\n",
    "A generator-function is defined like a normal function, but whenever it needs to generate a value, it does so with the<br>\n",
    "yield keyword rather than return. If the body of a def contains yield, the function automatically becomes a generator function. "
   ]
  },
  {
   "attachments": {},
   "cell_type": "markdown",
   "metadata": {},
   "source": [
    "### Yield and Next statement"
   ]
  },
  {
   "cell_type": "code",
   "execution_count": 18,
   "metadata": {},
   "outputs": [
    {
     "name": "stdout",
     "output_type": "stream",
     "text": [
      "My 1st Stop\n",
      "100\n",
      "My 2nd Stop\n",
      "200\n"
     ]
    }
   ],
   "source": [
    "def my_generator(n):\n",
    "    n += n\n",
    "    print(f\"My 1st Stop\")\n",
    "    yield n # Its like a return statement. It pauses the function and returns the value\n",
    "    n += n\n",
    "    print(f\"My 2nd Stop\")\n",
    "    yield n\n",
    "\n",
    "gen = my_generator(50)\n",
    "print(next(gen)) # Next function resumes the function and goes to the next stage\n",
    "print(next(gen))\n"
   ]
  },
  {
   "attachments": {},
   "cell_type": "markdown",
   "metadata": {},
   "source": [
    "### Looping through a Generator"
   ]
  },
  {
   "cell_type": "code",
   "execution_count": 21,
   "metadata": {},
   "outputs": [
    {
     "name": "stdout",
     "output_type": "stream",
     "text": [
      "0\n",
      "1\n",
      "32\n",
      "243\n",
      "1024\n",
      "3125\n",
      "7776\n",
      "16807\n",
      "32768\n",
      "59049\n"
     ]
    }
   ],
   "source": [
    "def my_generator(n):\n",
    "    for i in range(n):\n",
    "        yield i**5\n",
    "\n",
    "gen = my_generator(10)\n",
    "\n",
    "for i in gen:\n",
    "    print(i)"
   ]
  },
  {
   "attachments": {},
   "cell_type": "markdown",
   "metadata": {},
   "source": [
    "### Checking System Memory a Generator takes"
   ]
  },
  {
   "cell_type": "code",
   "execution_count": 18,
   "metadata": {},
   "outputs": [
    {
     "name": "stdout",
     "output_type": "stream",
     "text": [
      "Generator Function takes 112 bytes\n",
      "Normal Function takes 292 bytes\n"
     ]
    }
   ],
   "source": [
    "import sys\n",
    "\n",
    "def my_generator(n):\n",
    "    total = 1\n",
    "    for i in range(n):\n",
    "        total += i**100\n",
    "    yield total\n",
    "\n",
    "gen = my_generator(1000000)\n",
    "print(f\"Generator Function takes {sys.getsizeof(gen)} bytes\")\n",
    "\n",
    "\n",
    "def my_multiplyer(n):\n",
    "    total = 1\n",
    "    for i in range(n):\n",
    "        total += i**100\n",
    "    return total\n",
    "\n",
    "multiplyer = my_multiplyer(1000000)\n",
    "print(f\"Normal Function takes {sys.getsizeof(multiplyer)} bytes\")"
   ]
  }
 ],
 "metadata": {
  "kernelspec": {
   "display_name": "base",
   "language": "python",
   "name": "python3"
  },
  "language_info": {
   "codemirror_mode": {
    "name": "ipython",
    "version": 3
   },
   "file_extension": ".py",
   "mimetype": "text/x-python",
   "name": "python",
   "nbconvert_exporter": "python",
   "pygments_lexer": "ipython3",
   "version": "3.9.15 (main, Nov 24 2022, 14:39:17) [MSC v.1916 64 bit (AMD64)]"
  },
  "orig_nbformat": 4,
  "vscode": {
   "interpreter": {
    "hash": "d164221d6c0d4933ec47cd7b103ec0dce806182fd36f781fe7c7605ff9ff8343"
   }
  }
 },
 "nbformat": 4,
 "nbformat_minor": 2
}
