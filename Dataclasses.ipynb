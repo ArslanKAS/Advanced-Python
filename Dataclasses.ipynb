{
 "cells": [
  {
   "attachments": {},
   "cell_type": "markdown",
   "metadata": {},
   "source": [
    "# **Advanced Python:** Data Classes\n",
    "**Name:** Arsalan Ali<br>\n",
    "**Email:** arslanchaos@gmail.com\n",
    "\n",
    "Data classes are like regular classes but they're data oriented. They don't require constructors or representation methods.<br>\n",
    "Their objects can easily be printed out. You can turn their attributes read-only and do a lot of stuff.\n",
    "\n",
    "### **Table of Contents**\n",
    "* Simple Data Class\n",
    "* Comparing Objects Directly\n",
    "* Read-only Attributes\n",
    "* Represent In a Better Way (Applies to Classes too)"
   ]
  },
  {
   "attachments": {},
   "cell_type": "markdown",
   "metadata": {},
   "source": [
    "### Simple Data Class"
   ]
  },
  {
   "cell_type": "code",
   "execution_count": 3,
   "metadata": {},
   "outputs": [
    {
     "name": "stdout",
     "output_type": "stream",
     "text": [
      "Person(name='Arslan', age=31, gender='M')\n",
      "True\n"
     ]
    }
   ],
   "source": [
    "from dataclasses import dataclass\n",
    "\n",
    "@dataclass\n",
    "class Person:\n",
    "\n",
    "    name: str\n",
    "    age: int\n",
    "    gender: str\n",
    "\n",
    "p1 = Person(\"Arslan\", 31, \"M\")\n",
    "p2 = Person(\"Ben\", 28, \"M\")\n",
    "p3 = Person(\"Ben\", 28, \"M\")\n",
    "\n",
    "print(p1)\n",
    "\n",
    "print(p2 == p3)"
   ]
  },
  {
   "attachments": {},
   "cell_type": "markdown",
   "metadata": {},
   "source": [
    "### Comparing Objects Directly"
   ]
  },
  {
   "cell_type": "code",
   "execution_count": 24,
   "metadata": {},
   "outputs": [
    {
     "name": "stdout",
     "output_type": "stream",
     "text": [
      "False\n",
      "Person(name='Arslan', age=31, gender='M', strength=80)\n",
      "Person(name='Ben', age=28, gender='M', strength=100)\n"
     ]
    }
   ],
   "source": [
    "from dataclasses import dataclass, field\n",
    "\n",
    "@dataclass(order = True)\n",
    "class Person:\n",
    "\n",
    "    sort_index: int = field(init=False, repr=False) # For sorting int , init=False it wont initialize, repr=False it  won't show\n",
    "    name: str\n",
    "    age: int\n",
    "    gender: str\n",
    "    strength: int = 100 # default value\n",
    "\n",
    "    def __post_init__(self): # After initialization of object it runs\n",
    "        self.sort_index = self.strength # sorting int\n",
    "\n",
    "p1 = Person(\"Arslan\", 31, \"M\", 80)\n",
    "p2 = Person(\"Ben\", 28, \"M\")\n",
    "p3 = Person(\"Ben\", 28, \"M\")\n",
    "\n",
    "print(p1 > p3)\n",
    "print(p1)\n",
    "print(p2)"
   ]
  },
  {
   "attachments": {},
   "cell_type": "markdown",
   "metadata": {},
   "source": [
    "### Read-only Attributes"
   ]
  },
  {
   "cell_type": "code",
   "execution_count": 34,
   "metadata": {},
   "outputs": [
    {
     "name": "stdout",
     "output_type": "stream",
     "text": [
      "Person(name='Arslan', age=31, gender='M', strength=80)\n",
      "Person(name='Ben', age=28, gender='M', strength=100)\n"
     ]
    },
    {
     "ename": "FrozenInstanceError",
     "evalue": "cannot assign to field 'age'",
     "output_type": "error",
     "traceback": [
      "\u001b[1;31m---------------------------------------------------------------------------\u001b[0m",
      "\u001b[1;31mFrozenInstanceError\u001b[0m                       Traceback (most recent call last)",
      "Cell \u001b[1;32mIn[34], line 20\u001b[0m\n\u001b[0;32m     18\u001b[0m \u001b[39mprint\u001b[39m(p1)\n\u001b[0;32m     19\u001b[0m \u001b[39mprint\u001b[39m(p2)\n\u001b[1;32m---> 20\u001b[0m p1\u001b[39m.\u001b[39mage \u001b[39m=\u001b[39m \u001b[39m44\u001b[39m\n",
      "File \u001b[1;32m<string>:4\u001b[0m, in \u001b[0;36m__setattr__\u001b[1;34m(self, name, value)\u001b[0m\n",
      "\u001b[1;31mFrozenInstanceError\u001b[0m: cannot assign to field 'age'"
     ]
    }
   ],
   "source": [
    "from dataclasses import dataclass, field\n",
    "\n",
    "@dataclass(order = True, frozen=True)\n",
    "class Person:\n",
    "\n",
    "    sort_index: int = field(init=False, repr=False) # For sorting int , init=False it wont initialize, repr=False it  won't show\n",
    "    name: str\n",
    "    age: int\n",
    "    gender: str\n",
    "    strength: int = 100 # default value\n",
    "\n",
    "    def __post_init__(self): # After initialization of object it runs\n",
    "        object.__setattr__(self, \"sort_index\", self.strength) # previous technique wasn't gonna set it so using this instead\n",
    "\n",
    "p1 = Person(\"Arslan\", 31, \"M\", 80)\n",
    "p2 = Person(\"Ben\", 28, \"M\")\n",
    "\n",
    "print(p1)\n",
    "print(p2)\n",
    "p1.age = 44 # It won't apply because we made attributes Read-only"
   ]
  },
  {
   "attachments": {},
   "cell_type": "markdown",
   "metadata": {},
   "source": [
    "### Represent In a Better Way (Applies to Classes too)"
   ]
  },
  {
   "cell_type": "code",
   "execution_count": 39,
   "metadata": {},
   "outputs": [
    {
     "name": "stdout",
     "output_type": "stream",
     "text": [
      "Arslan, 31, M, 80\n",
      "Ben, 28, M, 100\n"
     ]
    }
   ],
   "source": [
    "from dataclasses import dataclass, field\n",
    "\n",
    "@dataclass(order = True, frozen=True)\n",
    "class Person:\n",
    "\n",
    "    sort_index: int = field(init=False, repr=False) # For sorting int , init=False it wont initialize, repr=False it  won't show\n",
    "    name: str\n",
    "    age: int\n",
    "    gender: str\n",
    "    strength: int = 100 # default value\n",
    "\n",
    "    def __post_init__(self): # After initialization of object it runs\n",
    "        object.__setattr__(self, \"sort_index\", self.strength) # previous technique wasn't gonna set it so using this instead\n",
    "\n",
    "    def __str__(self):\n",
    "        return f\"{self.name}, {self.age}, {self.gender}, {self.strength}\"\n",
    "\n",
    "p1 = Person(\"Arslan\", 31, \"M\", 80)\n",
    "p2 = Person(\"Ben\", 28, \"M\")\n",
    "\n",
    "print(p1)\n",
    "print(p2)"
   ]
  },
  {
   "cell_type": "code",
   "execution_count": 45,
   "metadata": {},
   "outputs": [
    {
     "name": "stdout",
     "output_type": "stream",
     "text": [
      "10\n",
      "<class 'str'>\n"
     ]
    },
    {
     "data": {
      "text/plain": [
       "{'return': str}"
      ]
     },
     "execution_count": 45,
     "metadata": {},
     "output_type": "execute_result"
    }
   ],
   "source": [
    "def age(n) -> str:\n",
    "    print(n)\n",
    "    print(type(n))\n",
    "\n",
    "age(\"10\")\n",
    "age.__annotations__"
   ]
  },
  {
   "cell_type": "code",
   "execution_count": null,
   "metadata": {},
   "outputs": [],
   "source": []
  }
 ],
 "metadata": {
  "kernelspec": {
   "display_name": "base",
   "language": "python",
   "name": "python3"
  },
  "language_info": {
   "codemirror_mode": {
    "name": "ipython",
    "version": 3
   },
   "file_extension": ".py",
   "mimetype": "text/x-python",
   "name": "python",
   "nbconvert_exporter": "python",
   "pygments_lexer": "ipython3",
   "version": "3.9.15"
  },
  "orig_nbformat": 4,
  "vscode": {
   "interpreter": {
    "hash": "d164221d6c0d4933ec47cd7b103ec0dce806182fd36f781fe7c7605ff9ff8343"
   }
  }
 },
 "nbformat": 4,
 "nbformat_minor": 2
}
