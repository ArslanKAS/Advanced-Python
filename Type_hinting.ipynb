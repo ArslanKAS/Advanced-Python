{
 "cells": [
  {
   "attachments": {},
   "cell_type": "markdown",
   "metadata": {},
   "source": [
    "# **Advanced Python:** Type Hinting\n",
    "**Name:** Arsalan Ali<br>\n",
    "**Email:** arslanchaos@gmail.com\n",
    "\n",
    "Type hints are performed using Python annotations (introduced since PEP 3107). They are used to add types to variables, parameters,<br>\n",
    "function arguments as well as their return values, class attributes, and methods. Adding type hints has no runtime effect:<br>\n",
    "these are only hints and are not enforced on their own."
   ]
  },
  {
   "cell_type": "code",
   "execution_count": 3,
   "metadata": {},
   "outputs": [
    {
     "data": {
      "text/plain": [
       "27"
      ]
     },
     "execution_count": 3,
     "metadata": {},
     "output_type": "execute_result"
    }
   ],
   "source": [
    "def addition(x: int, y: int) -> int:\n",
    "    return x + y\n",
    "\n",
    "addition(2,3)\n",
    "# Output: 5\n",
    "\n",
    "\n",
    "def sum_list(ls: list[int]) -> int:\n",
    "    return sum(ls)\n",
    "\n",
    "sum_list([2,3,4,5,6,7])\n",
    "# Output: 27"
   ]
  }
 ],
 "metadata": {
  "kernelspec": {
   "display_name": "latest_python",
   "language": "python",
   "name": "python3"
  },
  "language_info": {
   "codemirror_mode": {
    "name": "ipython",
    "version": 3
   },
   "file_extension": ".py",
   "mimetype": "text/x-python",
   "name": "python",
   "nbconvert_exporter": "python",
   "pygments_lexer": "ipython3",
   "version": "3.11.0"
  },
  "orig_nbformat": 4,
  "vscode": {
   "interpreter": {
    "hash": "0e89fa9d34bf160a830340249d57759ad2bc513e7c7d8dbe75f5cb00cde144ca"
   }
  }
 },
 "nbformat": 4,
 "nbformat_minor": 2
}
