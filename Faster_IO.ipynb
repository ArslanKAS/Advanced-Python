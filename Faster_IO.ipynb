{
 "cells": [
  {
   "attachments": {},
   "cell_type": "markdown",
   "metadata": {},
   "source": [
    "# **Advanced Python:** Faster I/O\n",
    "**Name:** Arsalan Ali<br>\n",
    "**Email:** arslanchaos@gmail.com\n",
    "\n",
    "If we've a big dataset and we need faster I/O on it without shrinking it then<br>\n",
    "We can use the following methods\n",
    "\n",
    "### **Table of Contents**\n",
    "* modin"
   ]
  },
  {
   "attachments": {},
   "cell_type": "markdown",
   "metadata": {},
   "source": [
    "### 1. modin\n",
    "Modin is a drop-in replacement for pandas. While pandas is single-threaded, Modin lets you instantly speed up your workflows<br>\n",
    "by scaling pandas so it uses all of your cores. Modin works especially well on larger datasets.<br>\n",
    "* **pip install modin[all]**\n",
    "* **pip install modin[ray]** # Install Modin dependencies and Ray.\n",
    "* **pip install modin[dask]** # Install Modin dependencies and Dask.\n",
    "* **pip install modin[unidist]** # Install Modin dependencies and Unidist to run on Unidist\n",
    "\n",
    "#### Usage:\n",
    "* modin_cfg.Engine.put(\"ray\")\n",
    "* modin_cfg.Engine.put(\"dask\")\n",
    "* os.environ[\"MODIN_ENGINE\"] = \"ray\" \n",
    "* os.environ[\"MODIN_ENGINE\"] = \"dask\" "
   ]
  },
  {
   "cell_type": "code",
   "execution_count": 12,
   "metadata": {},
   "outputs": [
    {
     "name": "stdout",
     "output_type": "stream",
     "text": [
      "Pandas: 46.65 seconds\n"
     ]
    }
   ],
   "source": [
    "# PANDAS\n",
    "\n",
    "import time\n",
    "import pandas as pd\n",
    "\n",
    "start = time.perf_counter()\n",
    "\n",
    "df = pd.read_csv(\"prices.csv\")\n",
    "\n",
    "end = time.perf_counter()\n",
    "\n",
    "print(f'Pandas: {(end - start):.2f} seconds')"
   ]
  },
  {
   "cell_type": "code",
   "execution_count": 2,
   "metadata": {},
   "outputs": [],
   "source": [
    "# MODIN SETTINGS\n",
    " \n",
    "import os\n",
    "from distributed import Client\n",
    "\n",
    "client = Client()\n",
    "\n",
    "os.environ[\"MODIN_ENGINE\"] = \"ray\"  # Modin will use Dask"
   ]
  },
  {
   "cell_type": "code",
   "execution_count": null,
   "metadata": {},
   "outputs": [],
   "source": [
    "# MODIN\n",
    "\n",
    "import modin.pandas as mpd\n",
    "\n",
    "start = time.perf_counter()\n",
    "\n",
    "df = mpd.read_csv(\"prices.csv\")\n",
    "\n",
    "end = time.perf_counter()\n",
    "\n",
    "print(f'Pandas: {(end - start):.2f} seconds')"
   ]
  }
 ],
 "metadata": {
  "kernelspec": {
   "display_name": "latest_python",
   "language": "python",
   "name": "python3"
  },
  "language_info": {
   "codemirror_mode": {
    "name": "ipython",
    "version": 3
   },
   "file_extension": ".py",
   "mimetype": "text/x-python",
   "name": "python",
   "nbconvert_exporter": "python",
   "pygments_lexer": "ipython3",
   "version": "3.11.0"
  },
  "orig_nbformat": 4,
  "vscode": {
   "interpreter": {
    "hash": "0e89fa9d34bf160a830340249d57759ad2bc513e7c7d8dbe75f5cb00cde144ca"
   }
  }
 },
 "nbformat": 4,
 "nbformat_minor": 2
}
