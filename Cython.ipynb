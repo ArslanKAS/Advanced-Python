{
 "cells": [
  {
   "cell_type": "code",
   "execution_count": 12,
   "metadata": {},
   "outputs": [
    {
     "ename": "AttributeError",
     "evalue": "module 'cython' has no attribute 'func'",
     "output_type": "error",
     "traceback": [
      "\u001b[1;31m---------------------------------------------------------------------------\u001b[0m",
      "\u001b[1;31mAttributeError\u001b[0m                            Traceback (most recent call last)",
      "\u001b[1;32mc:\\Users\\HAIER\\Desktop\\Python Chilla 2.0\\Advanced Python\\Cython.ipynb Cell 1\u001b[0m in \u001b[0;36m<cell line: 14>\u001b[1;34m()\u001b[0m\n\u001b[0;32m      <a href='vscode-notebook-cell:/c%3A/Users/HAIER/Desktop/Python%20Chilla%202.0/Advanced%20Python/Cython.ipynb#W0sZmlsZQ%3D%3D?line=1'>2</a>\u001b[0m \u001b[39mfrom\u001b[39;00m \u001b[39mCython\u001b[39;00m\u001b[39m.\u001b[39;00m\u001b[39mBuild\u001b[39;00m \u001b[39mimport\u001b[39;00m cythonize\n\u001b[0;32m      <a href='vscode-notebook-cell:/c%3A/Users/HAIER/Desktop/Python%20Chilla%202.0/Advanced%20Python/Cython.ipynb#W0sZmlsZQ%3D%3D?line=3'>4</a>\u001b[0m \u001b[39m# Define a Cython version of the sum_list function\u001b[39;00m\n\u001b[0;32m      <a href='vscode-notebook-cell:/c%3A/Users/HAIER/Desktop/Python%20Chilla%202.0/Advanced%20Python/Cython.ipynb#W0sZmlsZQ%3D%3D?line=4'>5</a>\u001b[0m \u001b[39m# @cython.cfunc\u001b[39;00m\n\u001b[0;32m      <a href='vscode-notebook-cell:/c%3A/Users/HAIER/Desktop/Python%20Chilla%202.0/Advanced%20Python/Cython.ipynb#W0sZmlsZQ%3D%3D?line=5'>6</a>\u001b[0m \u001b[39m# def sum_list_cython(numbers):\u001b[39;00m\n\u001b[1;32m   (...)\u001b[0m\n\u001b[0;32m     <a href='vscode-notebook-cell:/c%3A/Users/HAIER/Desktop/Python%20Chilla%202.0/Advanced%20Python/Cython.ipynb#W0sZmlsZQ%3D%3D?line=11'>12</a>\u001b[0m \n\u001b[0;32m     <a href='vscode-notebook-cell:/c%3A/Users/HAIER/Desktop/Python%20Chilla%202.0/Advanced%20Python/Cython.ipynb#W0sZmlsZQ%3D%3D?line=12'>13</a>\u001b[0m \u001b[39m# Define a Cython version of the sum_list function\u001b[39;00m\n\u001b[1;32m---> <a href='vscode-notebook-cell:/c%3A/Users/HAIER/Desktop/Python%20Chilla%202.0/Advanced%20Python/Cython.ipynb#W0sZmlsZQ%3D%3D?line=13'>14</a>\u001b[0m \u001b[39m@cython\u001b[39m\u001b[39m.\u001b[39;49mfunc\n\u001b[0;32m     <a href='vscode-notebook-cell:/c%3A/Users/HAIER/Desktop/Python%20Chilla%202.0/Advanced%20Python/Cython.ipynb#W0sZmlsZQ%3D%3D?line=14'>15</a>\u001b[0m \u001b[39mdef\u001b[39;00m \u001b[39msum_list_cython\u001b[39m(numbers: cython\u001b[39m.\u001b[39mint):\n\u001b[0;32m     <a href='vscode-notebook-cell:/c%3A/Users/HAIER/Desktop/Python%20Chilla%202.0/Advanced%20Python/Cython.ipynb#W0sZmlsZQ%3D%3D?line=15'>16</a>\u001b[0m   total: cython\u001b[39m.\u001b[39mint \u001b[39m=\u001b[39m \u001b[39m0\u001b[39m\n\u001b[0;32m     <a href='vscode-notebook-cell:/c%3A/Users/HAIER/Desktop/Python%20Chilla%202.0/Advanced%20Python/Cython.ipynb#W0sZmlsZQ%3D%3D?line=16'>17</a>\u001b[0m   number: cython\u001b[39m.\u001b[39mint\n",
      "\u001b[1;31mAttributeError\u001b[0m: module 'cython' has no attribute 'func'"
     ]
    }
   ],
   "source": [
    "import cython\n",
    "from Cython.Build import cythonize\n",
    "\n",
    "# Define a Cython version of the sum_list function\n",
    "# @cython.cfunc\n",
    "# def sum_list_cython(numbers):\n",
    "#   cdef int total = 0\n",
    "#   cdef int number\n",
    "#   for number in numbers:\n",
    "#     total += number\n",
    "#   return total\n",
    "\n",
    "# Define a Cython version of the sum_list function\n",
    "@cython.func\n",
    "def sum_list_cython(numbers: cython.int):\n",
    "  total: cython.int = 0\n",
    "  number: cython.int\n",
    "  for number in numbers:\n",
    "    total += number\n",
    "  return total\n",
    "\n",
    "# Compile the Cython function using the cythonize function\n",
    "sum_list_cython = cythonize(sum_list_cython)\n",
    "\n",
    "def sum_list(numbers):\n",
    "  total = 0\n",
    "  for number in numbers:\n",
    "    total += number\n",
    "  return total\n",
    "\n",
    "# Import the timeit module\n",
    "import timeit\n",
    "\n",
    "# Define the number of times to execute each function\n",
    "n = 1000000\n",
    "\n",
    "# Measure the execution time of the original Python function\n",
    "t1 = timeit.timeit(lambda: sum_list(range(n)), number=1)\n",
    "\n",
    "# Measure the execution time of the Cython-optimized function\n",
    "t2 = timeit.timeit(lambda: sum_list_cython(range(n)), number=1)\n",
    "\n",
    "# Print the execution times\n",
    "print(f\"Python function: {t1:.6f} seconds\")\n",
    "print(f\"Cython function: {t2:.6f} seconds\")"
   ]
  }
 ],
 "metadata": {
  "kernelspec": {
   "display_name": "experiments",
   "language": "python",
   "name": "python3"
  },
  "language_info": {
   "codemirror_mode": {
    "name": "ipython",
    "version": 3
   },
   "file_extension": ".py",
   "mimetype": "text/x-python",
   "name": "python",
   "nbconvert_exporter": "python",
   "pygments_lexer": "ipython3",
   "version": "3.10.4 | packaged by conda-forge | (main, Mar 30 2022, 08:38:02) [MSC v.1916 64 bit (AMD64)]"
  },
  "orig_nbformat": 4,
  "vscode": {
   "interpreter": {
    "hash": "2c6509fba79fc55280b1b16c13683e4475dd343bed06b3fbf71f5783e17f5ac7"
   }
  }
 },
 "nbformat": 4,
 "nbformat_minor": 2
}
