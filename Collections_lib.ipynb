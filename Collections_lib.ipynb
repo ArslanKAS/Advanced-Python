{
 "cells": [
  {
   "attachments": {},
   "cell_type": "markdown",
   "metadata": {},
   "source": [
    "# **Advanced Python:** Collections Library\n",
    "**Name:** Arsalan Ali<br>\n",
    "**Email:** arslanchaos@gmail.com\n",
    "\n",
    "Top Built-in Container Datatypes<br>\n",
    "**Link:** https://docs.python.org/3/library/collections.html"
   ]
  },
  {
   "attachments": {},
   "cell_type": "markdown",
   "metadata": {},
   "source": [
    "### **1. deque**\n",
    "list-like container with fast appends and pops on either end"
   ]
  },
  {
   "cell_type": "code",
   "execution_count": 13,
   "metadata": {},
   "outputs": [
    {
     "name": "stdout",
     "output_type": "stream",
     "text": [
      "deque(['My', 'name', 'is', 'Arsalan'])\n",
      "deque(['name', 'is', 'Arsalan'])\n"
     ]
    }
   ],
   "source": [
    "from collections import deque\n",
    "\n",
    "name = [\"name\", \"is\", \"Arsalan\"]\n",
    "\n",
    "name_deque = deque(name)\n",
    "\n",
    "name_deque.appendleft(\"My\")\n",
    "\n",
    "print(name_deque)\n",
    "\n",
    "name_deque.popleft()\n",
    "\n",
    "print(name_deque)"
   ]
  },
  {
   "attachments": {},
   "cell_type": "markdown",
   "metadata": {},
   "source": [
    "### **2. ChainMap**\n",
    "dict-like class for creating a single view of multiple mappings"
   ]
  },
  {
   "cell_type": "code",
   "execution_count": 31,
   "metadata": {},
   "outputs": [
    {
     "name": "stdout",
     "output_type": "stream",
     "text": [
      "{'c': 'value 3', 'd': 'value 4', 'a': 'value 1', 'b': 'value 2'}\n"
     ]
    }
   ],
   "source": [
    "from collections import ChainMap\n",
    "\n",
    "dict_1 = {\"a\": \"value 1\", \"b\": \"value 2\"}\n",
    "dict_2 = {\"c\": \"value 3\", \"d\": \"value 4\"}\n",
    "\n",
    "chain = ChainMap(dict_1, dict_2)\n",
    "print(dict(chain))"
   ]
  },
  {
   "attachments": {},
   "cell_type": "markdown",
   "metadata": {},
   "source": [
    "### **3. Counter**\n",
    "dict subclass for counting hashable objects"
   ]
  },
  {
   "cell_type": "code",
   "execution_count": 36,
   "metadata": {},
   "outputs": [
    {
     "name": "stdout",
     "output_type": "stream",
     "text": [
      "{1: 2, 2: 2, 3: 2, 4: 3, 5: 3, 6: 2, 7: 1, 9: 1, 8: 1, 0: 1}\n"
     ]
    }
   ],
   "source": [
    "from collections import Counter\n",
    "\n",
    "big_list = [1,2,3,4,5,6,7,9,4,3,6,8,5,0,1,2,4,5]\n",
    "\n",
    "print(dict(Counter(big_list)))"
   ]
  },
  {
   "cell_type": "code",
   "execution_count": null,
   "metadata": {},
   "outputs": [],
   "source": []
  }
 ],
 "metadata": {
  "kernelspec": {
   "display_name": "latest_python",
   "language": "python",
   "name": "python3"
  },
  "language_info": {
   "codemirror_mode": {
    "name": "ipython",
    "version": 3
   },
   "file_extension": ".py",
   "mimetype": "text/x-python",
   "name": "python",
   "nbconvert_exporter": "python",
   "pygments_lexer": "ipython3",
   "version": "3.11.0"
  },
  "orig_nbformat": 4,
  "vscode": {
   "interpreter": {
    "hash": "0e89fa9d34bf160a830340249d57759ad2bc513e7c7d8dbe75f5cb00cde144ca"
   }
  }
 },
 "nbformat": 4,
 "nbformat_minor": 2
}
